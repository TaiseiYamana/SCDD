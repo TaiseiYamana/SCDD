{
  "nbformat": 4,
  "nbformat_minor": 0,
  "metadata": {
    "colab": {
      "name": "SCDD.ipynb",
      "provenance": []
    },
    "kernelspec": {
      "name": "python3",
      "display_name": "Python 3"
    },
    "language_info": {
      "name": "python"
    }
  },
  "cells": [
    {
      "cell_type": "markdown",
      "source": [
        "# preparation"
      ],
      "metadata": {
        "id": "rN8T5Ab4yl4s"
      }
    },
    {
      "cell_type": "code",
      "execution_count": null,
      "metadata": {
        "id": "gIeORfJ1wLF-"
      },
      "outputs": [],
      "source": [
        "from google.colab import drive\n",
        "drive.mount('/content/drive')"
      ]
    },
    {
      "cell_type": "code",
      "source": [
        "!git clone https://github.com/TaiseiYamana/SCDD.git\n",
        "%cd SCDD/source"
      ],
      "metadata": {
        "id": "MjnVz3j0wPL9"
      },
      "execution_count": null,
      "outputs": []
    },
    {
      "cell_type": "markdown",
      "source": [
        "# Training\n",
        "## Source only, Cross domain distilllation"
      ],
      "metadata": {
        "id": "pPt2BDkpxE4G"
      }
    },
    {
      "cell_type": "code",
      "source": [
        "!bash scripts/of31/source_only.sh"
      ],
      "metadata": {
        "id": "lbkw1WqlwcQ9"
      },
      "execution_count": null,
      "outputs": []
    },
    {
      "cell_type": "code",
      "source": [
        "!bash scripts/of31/cdd_by_mcc_from_mcc.sh"
      ],
      "metadata": {
        "id": "MVw1RHbRwdOs"
      },
      "execution_count": null,
      "outputs": []
    },
    {
      "cell_type": "markdown",
      "source": [
        "## Other methods\n",
        "### Reference\n",
        "[mcc](https://arxiv.org/abs/1912.03699)  \n",
        "[dcoral](https://arxiv.org/abs/1607.01719)  \n",
        "[mobileda](https://ieeexplore.ieee.org/document/9016215) "
      ],
      "metadata": {
        "id": "quat4za7wrPn"
      }
    },
    {
      "cell_type": "code",
      "source": [
        "!bash scripts/of31/mcc.sh"
      ],
      "metadata": {
        "id": "Lg04gPbOwp5g"
      },
      "execution_count": null,
      "outputs": []
    },
    {
      "cell_type": "code",
      "source": [
        "!bash scripts/of31/dcoral.sh"
      ],
      "metadata": {
        "id": "3DVQeQYuxKIa"
      },
      "execution_count": null,
      "outputs": []
    },
    {
      "cell_type": "code",
      "source": [
        "!bash scripts/of31/mobileda.sh"
      ],
      "metadata": {
        "id": "lbnff8e2xNUI"
      },
      "execution_count": null,
      "outputs": []
    },
    {
      "cell_type": "markdown",
      "source": [
        "## Stepwise Cross Domain Distillation (SCDD) experiment"
      ],
      "metadata": {
        "id": "hSjAYmavywMp"
      }
    },
    {
      "cell_type": "code",
      "source": [
        "# SCDD\b\n",
        "!bash scripts/ofhome/scdd.h"
      ],
      "metadata": {
        "id": "iEfQ4u1Uy6uR"
      },
      "execution_count": null,
      "outputs": []
    },
    {
      "cell_type": "code",
      "source": [
        "# SCDD w/o TA\n",
        "!bash scripts/ofhome/scdd_nota.h"
      ],
      "metadata": {
        "id": "boXklXXLzDUw"
      },
      "execution_count": null,
      "outputs": []
    }
  ]
}